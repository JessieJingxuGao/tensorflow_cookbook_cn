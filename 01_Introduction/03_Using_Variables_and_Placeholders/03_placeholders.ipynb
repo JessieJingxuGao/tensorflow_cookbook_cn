{
 "cells": [
  {
   "cell_type": "markdown",
   "metadata": {},
   "source": [
    "# 占位符（Placeholder）\n",
    "\n",
    "我们将要介绍如何在 TensorFlow 中使用占位符（placeholder）。\n",
    "\n",
    "首先，让我们引入必要的库并重置计算图（graph session）。"
   ]
  },
  {
   "cell_type": "code",
   "execution_count": 1,
   "metadata": {},
   "outputs": [],
   "source": [
    "import numpy as np\n",
    "import tensorflow as tf\n",
    "from tensorflow.python.framework import ops\n",
    "ops.reset_default_graph()"
   ]
  },
  {
   "cell_type": "markdown",
   "metadata": {},
   "source": [
    "开始一个计算图（graph session）。"
   ]
  },
  {
   "cell_type": "code",
   "execution_count": 2,
   "metadata": {
    "collapsed": true
   },
   "outputs": [],
   "source": [
    "sess = tf.Session()"
   ]
  },
  {
   "cell_type": "markdown",
   "metadata": {},
   "source": [
    "### 声明占位符\n",
    "\n",
    "我们用 TensorFlow 的`tf.placeholder()`函数来创建声明一个占位符。这个函数接受一个数据类型（data-type）参数（如：`tf.float32`）和一个形状（shape）参数（如：`(4,4)`）。注意：形状参数可以是一个元组（tuple）`(4,4)`或一个列表（list）`[4,4]`。"
   ]
  },
  {
   "cell_type": "code",
   "execution_count": 3,
   "metadata": {
    "collapsed": true
   },
   "outputs": [],
   "source": [
    "x = tf.placeholder(tf.float32, shape=(4, 4))"
   ]
  },
  {
   "cell_type": "markdown",
   "metadata": {},
   "source": [
    "为了解释清楚如何使用占位符（placeholder），我们创建一个输入数据集和一个在Tensorboard上可视化的运算。\n",
    "注意`feed_dict`的用法：通过这个我们将`x`的值传入计算图。"
   ]
  },
  {
   "cell_type": "code",
   "execution_count": 4,
   "metadata": {},
   "outputs": [
    {
     "name": "stdout",
     "output_type": "stream",
     "text": [
      "[[ 0.1175806   0.88121527  0.00815445  0.93555111]\n",
      " [ 0.97369134  0.14595009  0.16398087  0.76570976]\n",
      " [ 0.67633879  0.11748746  0.01266815  0.32564184]\n",
      " [ 0.99007022  0.6825515   0.54524553  0.01503101]]\n"
     ]
    }
   ],
   "source": [
    "# 占位符的输入数据集。注意：'rand_array'和'x'具有相同的形状。\n",
    "rand_array = np.random.rand(4, 4)\n",
    "\n",
    "# 创建一个张量（tensor）来执行一个运算。 (y 等于 x，一个 4x4 的矩阵)\n",
    "y = tf.identity(x)  # 【译者注：idetentity 单位矩阵】\n",
    "\n",
    "# 打印输出，将 x 喂给计算图\n",
    "print(sess.run(y, feed_dict={x: rand_array}))"
   ]
  },
  {
   "cell_type": "markdown",
   "metadata": {},
   "source": [
    "为了在 Tensorboard 中可视化，我们合并摘要并写入日志文件。"
   ]
  },
  {
   "cell_type": "code",
   "execution_count": 8,
   "metadata": {},
   "outputs": [],
   "source": [
    "merged = tf.summary.merge_all()\n",
    "writer = tf.summary.FileWriter(\"/tmp/variable_logs\", sess.graph)"
   ]
  },
  {
   "cell_type": "markdown",
   "metadata": {},
   "source": [
    "在终端中运行如下所示的命令：\n",
    "\n",
    "`tensorboard --logdir=/tmp`\n",
    "\n",
    "我们可以在谷歌浏览器中输入以下地址，来查看可视化的计算图。默认地址为：\n",
    "\n",
    "`http://0.0.0.0:6006/`"
   ]
  },
  {
   "cell_type": "markdown",
   "metadata": {},
   "source": [
    "![Placeholders_in_Tensorboard](https://github.com/nfmcclure/tensorflow_cookbook/raw/master/01_Introduction/images/03_placeholder.png)"
   ]
  },
  {
   "cell_type": "code",
   "execution_count": null,
   "metadata": {},
   "outputs": [],
   "source": []
  },
  {
   "cell_type": "code",
   "execution_count": null,
   "metadata": {},
   "outputs": [],
   "source": []
  }
 ],
 "metadata": {
  "kernelspec": {
   "display_name": "Python 3",
   "language": "python",
   "name": "python3"
  },
  "language_info": {
   "codemirror_mode": {
    "name": "ipython",
    "version": 3
   },
   "file_extension": ".py",
   "mimetype": "text/x-python",
   "name": "python",
   "nbconvert_exporter": "python",
   "pygments_lexer": "ipython3",
   "version": "3.6.2"
  }
 },
 "nbformat": 4,
 "nbformat_minor": 2
}
