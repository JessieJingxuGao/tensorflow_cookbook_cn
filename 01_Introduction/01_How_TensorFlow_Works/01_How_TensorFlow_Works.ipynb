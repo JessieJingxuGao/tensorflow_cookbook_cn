{
 "cells": [
  {
   "cell_type": "markdown",
   "metadata": {},
   "source": [
    "## TensorFlow 是如何工作的？"
   ]
  },
  {
   "cell_type": "markdown",
   "metadata": {},
   "source": [
    "### 引言\n",
    "\n",
    "谷歌（Google）在2015年11月开源了 TensorFlow。从此，TensorFlow 成为 Github(https://github.com/tensorflow/tensorflow) 上 star 数最多的机器学习库。\n",
    "\n",
    "TensorFlow 为何这么流行？TensorFlow 这么流行有多种原因，但主要是因为计算图概念（computational graph concept）、 自动微分（automatic differentiation）和 Tensorflow Python API 架构的适应性（the adaptability of the Tensorflow python API structure）。这使得大多数程序员可以用 Tensorflow 来解决实际问题。\n",
    "\n",
    "谷歌的 Tensorflow 引擎有一种独特的方式来解决问题。这种独特的方式让解决机器学习问题非常高效。我们将要介绍 Tensorflow 的基本步骤来理解它是如何运行的（operate）。这个知识点的理解对于学习本书后面的内容非常重要。"
   ]
  },
  {
   "cell_type": "markdown",
   "metadata": {},
   "source": [
    "### Tensorflow 是如何运行的\n",
    "\n",
    "最初，Tensorflow 中的计算处理似乎没有必要的这么复杂。但是这是有原因的：正是由于 Tensorflow 这样处理计算，所以开发出更复杂的算法会变得相对简单。 我们将用伪代码来阐明 Tensorflow 的算法是符合工作的。\n",
    "\n",
    "Tensorflow 现在主要支持三种操作系统（Windows、Linux 和 Mac）。在这本书中，我们只关注 Tensorflow 的 Python 的封装。本书将使用 Python 3.X(https://www.python.org) 和 Tensorflow 0.12+(https://www.tensorflow.org)。【译者翻译时，Python是3.6.2和Tensorflow是1.6.0】。同时，Tensorflow 能运行在 CPU 和 GPU 上并且在 GPU 上的运行会比 CPU 上快。Tensorflow 支持 NVidia Compute Capability 3.0+ 的显卡。如果需要在 GPU 上运行，你需要下载并安装 NVidia Cuda Toolkit(https://developer.nvidia.com/cuda-downloads) 。当然本书还依赖 Python 的 Scipy、Numpy、和 Scikit-Learn  库。\n",
    "\n",
    "请查看本代码库中主目录的 `requirements.txt`，并运行类似于以下命令 `pip install -r requirements.txt` 来确保必要的依赖库都可用。"
   ]
  },
  {
   "cell_type": "markdown",
   "metadata": {},
   "source": [
    "### TensorFlow 算法概述\n",
    "\n",
    "现在我们将介绍 Tensorflow 算法的一般处理流程。本书大多数都遵循以下概述。\n",
    "\n",
    "1. 导入或生成样本数据\n",
    "\n",
    "    所有的机器学习算法都依赖于样本数据。本书的样本数据有的通过自己生成，有的采用公开样本数据。有时候，采用自己生成的数据会更好的符合预期的结果。另外，本书还采用公开的数据，详见本书第8章。\n",
    "\n",
    "2. 转换并规范化样本数据\n",
    "\n",
    "    通常，这些数据都不符合 Tensorflow 算法要求的尺寸（dimension）和类型（type）。在我们使用这些数据前，需要对它进行转换。同样的，大多数的 Tensorflow 算法也要求规范化的数据（normalized data），也应在使用前进行转换。Tensorflow 有内建的函数来帮你规范化这些数据。\n",
    "\n",
    "    `data = tf.nn.batch_norm_with_global_normalization(...)`\n",
    "\n",
    "3. 设置 Tensorflow 算法参数\n",
    "\n",
    "    Tensorflow 算法通常需要一些常量参数来控制算法的运行。例如：迭代次数（the number of iterations）、学习率（the learning rate）或其他我们所选的固定参数。把参数的初始化放在一起，这是一种好的做法，这样阅读代码的人可以轻松找到它们。\n",
    "\n",
    "    `learning_rate = 0.01`\n",
    "    `iterations = 1000`\n",
    "\n",
    "4. 初始化变量（variable）和占位符（placeholder）\n",
    "\n",
    "    Tensorflow 需要我们告诉它，什么数据可以被修改，什么数据不能被修改。在最小化损失函数的优化过程中，Tensorflow 会修改变量（variable）。我们要通过占位符（placeholder）来喂数据。我们需要同时地初始化变量（variable）和占位符（placeholder）的大小（size）和类型（type），这样 Tensorflow 就能知道这些数据了。\n",
    "\n",
    "    `a_var = tf.constant(42)`\n",
    "    `x_input = tf.placeholder(tf.float32, [None, input_size])`\n",
    "    `y_input = tf.placeholder(tf.fload32, [None, num_classes])`\n",
    "\n",
    "5. 定义模型结构\n",
    "\n",
    "    在获得数据并初始化变量和占位符后，我们必须定义模型。 这是通过构建计算图（computational graph）来完成的。 我们告诉 Tensorflow 必须对变量和占位符进行何种操作才能得到我们的模型预测。 在本书第2章的第1节中，我们将深入讨论计算图（computational graph）。\n",
    "\n",
    "    `y_pred = tf.add(tf.mul(x_input, weight_matrix), b_matrix)`\n",
    "\n",
    "6. 声明损失函数（loss function）\n",
    "\n",
    "    模型定义好之后，我们必须能够评估输出结果。这里就需要定义损失函数（loss function）。损失函数非常重要，它告诉我们，我们的预测值离实际值有多远。第2章第5节详细讨论了不同类型的损失函数。\n",
    "\n",
    "    `loss = tf.reduce_mean(tf.square(y_actual – y_pred))`\n",
    "\n",
    "7. 初始化并训练模型\n",
    "\n",
    "    我们已经准备好了一切，那么，我们创建一个实例或计算图，通过占位符喂入数据，并让 Tensorflow 更改变量以更好地预测我们的训练数据。下面是初始化计算图的一种方法：\n",
    "\n",
    "    `with tf.Session(graph=graph) as session:\n",
    "      ...\n",
    "      session.run(...)\n",
    "      ...`\n",
    "\n",
    "    我们也能用这种方式初始化计算图：\n",
    "\n",
    "    `session = tf.Session(graph=graph)`\n",
    "    `session.run(...)`\n",
    "\n",
    "8. （可选）评估模型\n",
    "\n",
    "    一旦我们建立并训练了模型，我们要评估模型。评估模型可以通过查看它在某些限定标准下，对新数据的表现效果。\n",
    "\n",
    "9. （可选）预测结果\n",
    "\n",
    "    同样重要的还有，如何在新的、未见的数据上进行预测。只要我们的模型训练好了，我们都可以用这些模型来预测。"
   ]
  },
  {
   "cell_type": "markdown",
   "metadata": {},
   "source": [
    "## 小结\n",
    "\n",
    "在 Tensorflow 中，我们必须设置训练数据（data）、变量（variable）、占位符（placeholder）和模型（model），然后才能通过程序来训练和更改变量以改进预测。Tensorflow 通过计算图（computational graph）来完成此任务。我们要求 Tensorflow 最小化损失函数，它会通过修改模型中的变量来实现这一点。 Tensorflow 知道如何修改变量，因为它跟踪模型中的计算并自动计算每个变量的梯度。 正因为如此，我们可以和容易地做出更改和尝试不同的数据源。\n",
    "\n",
    "总而言之，Tensorflow 中的算法被设计为一种循环结构。我们把这种循环结构叫做计算图：\n",
    "（1）通过占位符提供数据\n",
    "（2）计算计算图的输出\n",
    "（3）通过损失函数，将输出与期望输出相比较\n",
    "（4）根据自动反向传播，修改模型变量\n",
    "（5）最后，重复该过程直到满足停止条件。"
   ]
  },
  {
   "cell_type": "markdown",
   "metadata": {},
   "source": [
    "![Tensorflow_Algorithm_Diagram](https://github.com/nfmcclure/tensorflow_cookbook/raw/jupyter_notebooks/01_Introduction/images/01_outline.png)"
   ]
  }
 ],
 "metadata": {
  "kernelspec": {
   "display_name": "Python 3",
   "language": "python",
   "name": "python3"
  },
  "language_info": {
   "codemirror_mode": {
    "name": "ipython",
    "version": 3
   },
   "file_extension": ".py",
   "mimetype": "text/x-python",
   "name": "python",
   "nbconvert_exporter": "python",
   "pygments_lexer": "ipython3",
   "version": "3.6.2"
  }
 },
 "nbformat": 4,
 "nbformat_minor": 2
}
